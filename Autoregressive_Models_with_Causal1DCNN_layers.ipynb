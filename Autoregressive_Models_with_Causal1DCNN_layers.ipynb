{
  "nbformat": 4,
  "nbformat_minor": 0,
  "metadata": {
    "colab": {
      "provenance": [],
      "authorship_tag": "ABX9TyPl1XS2Ldh1ezF5fU3LF+P2",
      "include_colab_link": true
    },
    "kernelspec": {
      "name": "python3",
      "display_name": "Python 3"
    },
    "language_info": {
      "name": "python"
    }
  },
  "cells": [
    {
      "cell_type": "markdown",
      "metadata": {
        "id": "view-in-github",
        "colab_type": "text"
      },
      "source": [
        "<a href=\"https://colab.research.google.com/github/lorrespz/Generative-models/blob/main/Autoregressive_Models_with_Causal1DCNN_layers.ipynb\" target=\"_parent\"><img src=\"https://colab.research.google.com/assets/colab-badge.svg\" alt=\"Open In Colab\"/></a>"
      ]
    },
    {
      "cell_type": "markdown",
      "source": [
        "# Autoregressive Models with Causal1DCNN layers\n",
        "\n",
        "This notebook follows the text book \"Deep Generative Modeling\" by Jakub Tomczak and his code at\n",
        "\n",
        "https://github.com/jmtomczak/intro_dgm/blob/main/arms/arm_example.ipynb\n",
        "\n",
        "\n",
        "## Overview of autoregressive generative modeling\n",
        "\n",
        "Given a random variable $\\mathbf{x} \\in X^D$\n",
        "our goal is to model $p(\\mathbf{x})$. The product rule that allows us to factorize the joint distribution of $\\mathbf{x} = [x_1, x_2, \\ldots, x_T]$ states that\n",
        "\n",
        "$p(\\mathbf{x}) = p(x_1) \\prod_{d=2}^D p(x_d|\\mathbf{x}_{<d})$\n",
        "\n",
        "e.g. for $\\mathbf{x} = [x_1, x_2, x_3]$, we have\n",
        "$p(\\mathbf{x}) = p(x_1)p(x_2|x_1) p(x_3|x_1, x_2)$.\n",
        "\n",
        "- To simplify the computation, we can assume that each variable is dependent on no more than two other variables, namely:\n",
        "\n",
        "  - $p(\\mathbf{x}) = p(x_1) p(x_2|x_1)\\prod_{d=3}^D p(x_d|x_{d-1}, x_{d-2})$\n",
        "\n",
        "  Then, we can use a small neural network to predict the distribution of $x_d$.\n",
        "\n",
        "- If the data is of the form $X = [0, 1, \\ldots, 255]$,  the neural network takes as inputs $x_{d-1}, x_{d-2}$ and outputs the probabilities for the categorical distribution $\\theta_d$ of $x_d$. Popular choice for the realization of the neural network is one consisting of *causal* 1D convolutional layers."
      ],
      "metadata": {
        "id": "W3mb849wPAkg"
      }
    },
    {
      "cell_type": "code",
      "execution_count": 2,
      "metadata": {
        "id": "HQwWnKzeOx6w"
      },
      "outputs": [],
      "source": [
        "import os\n",
        "import numpy as np\n",
        "import matplotlib.pyplot as plt\n",
        "import torch\n",
        "from sklearn.datasets import load_digits\n",
        "from sklearn import datasets\n",
        "from torch.utils.data import Dataset, DataLoader\n",
        "import torch.nn as nn\n",
        "import torch.nn.functional as F\n",
        "\n",
        "#from pytorch_model_summary import summary"
      ]
    },
    {
      "cell_type": "markdown",
      "source": [
        "# Load data: Digits from sklearn"
      ],
      "metadata": {
        "id": "YIS8Ot07ZXvA"
      }
    },
    {
      "cell_type": "code",
      "source": [
        "\n",
        "class Digits(Dataset):\n",
        "    \"\"\"Scikit-Learn Digits dataset.\"\"\"\n",
        "\n",
        "    def __init__(self, mode='train', transforms=None):\n",
        "        digits = load_digits()\n",
        "        if mode == 'train':\n",
        "            self.data = digits.data[:1000].astype(np.float32)\n",
        "        elif mode == 'val':\n",
        "            self.data = digits.data[1000:1350].astype(np.float32)\n",
        "        else:\n",
        "            self.data = digits.data[1350:].astype(np.float32)\n",
        "\n",
        "        self.transforms = transforms\n",
        "\n",
        "    def __len__(self):\n",
        "        return len(self.data)\n",
        "\n",
        "    def __getitem__(self, idx):\n",
        "        sample = self.data[idx]\n",
        "        if self.transforms:\n",
        "            sample = self.transforms(sample)\n",
        "        return sample"
      ],
      "metadata": {
        "id": "JFpyEF38SLfJ"
      },
      "execution_count": 3,
      "outputs": []
    },
    {
      "cell_type": "code",
      "source": [
        "train_set = Digits()\n",
        "print(f'There are {len(train_set)} samples in the train set')\n",
        "for data in train_set:\n",
        "  print(len(data), data)\n",
        "  break"
      ],
      "metadata": {
        "colab": {
          "base_uri": "https://localhost:8080/"
        },
        "id": "ua71GmDUZduA",
        "outputId": "69b061e8-f2fa-4926-ee9c-4463b351e26e"
      },
      "execution_count": 6,
      "outputs": [
        {
          "output_type": "stream",
          "name": "stdout",
          "text": [
            "There are 1000 samples in the train set\n",
            "64 [ 0.  0.  5. 13.  9.  1.  0.  0.  0.  0. 13. 15. 10. 15.  5.  0.  0.  3.\n",
            " 15.  2.  0. 11.  8.  0.  0.  4. 12.  0.  0.  8.  8.  0.  0.  5.  8.  0.\n",
            "  0.  9.  8.  0.  0.  4. 11.  0.  1. 12.  7.  0.  0.  2. 14.  5. 10. 12.\n",
            "  0.  0.  0.  0.  6. 13. 10.  0.  0.  0.]\n"
          ]
        }
      ]
    },
    {
      "cell_type": "code",
      "source": [
        "train_data = Digits(mode='train')\n",
        "val_data = Digits(mode='val')\n",
        "test_data = Digits(mode='test')\n",
        "\n",
        "training_loader = DataLoader(train_data, batch_size=64, shuffle=True)\n",
        "val_loader = DataLoader(val_data, batch_size=64, shuffle=False)\n",
        "test_loader = DataLoader(test_data, batch_size=64, shuffle=False)\n",
        "\n",
        "#result_dir = 'results/'\n",
        "#if not(os.path.exists(result_dir)):\n",
        "#    os.mkdir(result_dir)\n",
        "name = 'arm'"
      ],
      "metadata": {
        "id": "KfTxW8ZddZ_8"
      },
      "execution_count": 13,
      "outputs": []
    },
    {
      "cell_type": "markdown",
      "source": [
        "# Causal Conv1D layer"
      ],
      "metadata": {
        "id": "k_wW5JfFaBt0"
      }
    },
    {
      "cell_type": "code",
      "source": [
        "class CausalConv1d(nn.Module):\n",
        "    \"\"\"\n",
        "    A causal 1D convolution.\n",
        "    \"\"\"\n",
        "\n",
        "    def __init__(self, in_channels, out_channels, kernel_size, dilation, A=False, **kwargs):\n",
        "        super(CausalConv1d, self).__init__()\n",
        "\n",
        "        # attributes:\n",
        "        self.kernel_size = kernel_size\n",
        "        self.dilation = dilation\n",
        "        self.A = A\n",
        "\n",
        "        self.padding = (kernel_size - 1) * dilation + A * 1\n",
        "\n",
        "        # module:\n",
        "        self.conv1d = torch.nn.Conv1d(in_channels, out_channels,\n",
        "                                      kernel_size, stride=1,\n",
        "                                      padding=0,\n",
        "                                      dilation=dilation,\n",
        "                                      **kwargs)\n",
        "\n",
        "    def forward(self, x):\n",
        "        x = torch.nn.functional.pad(x, (self.padding, 0))\n",
        "        conv1d_out = self.conv1d(x)\n",
        "        if self.A:\n",
        "          # Not taking into account the last layer\n",
        "            return conv1d_out[:, :, : -1]\n",
        "        else:\n",
        "            return conv1d_out"
      ],
      "metadata": {
        "id": "0oIx2ll_ZdwU"
      },
      "execution_count": 7,
      "outputs": []
    },
    {
      "cell_type": "code",
      "source": [],
      "metadata": {
        "id": "HaSlHnuQZdze"
      },
      "execution_count": null,
      "outputs": []
    },
    {
      "cell_type": "markdown",
      "source": [
        "# Distribution"
      ],
      "metadata": {
        "id": "U52Ov6vrZ62W"
      }
    },
    {
      "cell_type": "code",
      "source": [
        "EPS = 1.e-5\n",
        "\n",
        "def log_categorical(x, p, num_classes=256, reduction=None, dim=None):\n",
        "    x_one_hot = F.one_hot(x.long(), num_classes=num_classes)\n",
        "    log_p = x_one_hot * torch.log(torch.clamp(p, EPS, 1. - EPS))\n",
        "    if reduction == 'avg':\n",
        "        return torch.mean(log_p, dim)\n",
        "    elif reduction == 'sum':\n",
        "        return torch.sum(log_p, dim)\n",
        "    else:\n",
        "        return log_p"
      ],
      "metadata": {
        "id": "uT9E03foYkZj"
      },
      "execution_count": 8,
      "outputs": []
    },
    {
      "cell_type": "markdown",
      "source": [
        "# Autoregressive model with Conv1D layers"
      ],
      "metadata": {
        "id": "SmbEctElZ9E1"
      }
    },
    {
      "cell_type": "code",
      "source": [
        "class ARM(nn.Module):\n",
        "    def __init__(self, net, D=2, num_vals=256):\n",
        "        super(ARM, self).__init__()\n",
        "        self.net = net\n",
        "        self.num_vals = num_vals\n",
        "        self.D = D\n",
        "    #Pass the data through the network to get a categorical probability distribution\n",
        "    def f(self, x):\n",
        "        h = self.net(x.unsqueeze(1))\n",
        "        h = h.permute(0, 2, 1)\n",
        "        p = torch.softmax(h, 2)\n",
        "        return p\n",
        "\n",
        "    #This is the loss function called by model.forward()\n",
        "    def forward(self, x, reduction='avg'):\n",
        "        if reduction == 'avg':\n",
        "            return -(self.log_prob(x).mean())\n",
        "        elif reduction == 'sum':\n",
        "            return -(self.log_prob(x).sum())\n",
        "        else:\n",
        "            raise ValueError('reduction could be either `avg` or `sum`.')\n",
        "\n",
        "    #This is the loss function definition\n",
        "    def log_prob(self, x):\n",
        "        mu_d = self.f(x)\n",
        "        log_p = log_categorical(x, mu_d, num_classes=self.num_vals, reduction='sum', dim=-1).sum(-1)\n",
        "        return log_p\n",
        "\n",
        "    #This is the generation function\n",
        "    def sample(self, batch_size):\n",
        "        x_new = torch.zeros((batch_size, self.D))\n",
        "        for d in range(self.D):\n",
        "            p = self.f(x_new)\n",
        "            x_new_d = torch.multinomial(p[:, d, :], num_samples=1)\n",
        "            x_new[:, d] = x_new_d[:,0]\n",
        "        return x_new"
      ],
      "metadata": {
        "id": "2IXzLSr_Ykcb"
      },
      "execution_count": 10,
      "outputs": []
    },
    {
      "cell_type": "markdown",
      "source": [
        "# Utility functions"
      ],
      "metadata": {
        "id": "OahpccPoc0L4"
      }
    },
    {
      "cell_type": "code",
      "source": [
        "##############################################################################\n",
        "def evaluation(test_loader, name=None, model_best=None, epoch=None):\n",
        "    # EVALUATION\n",
        "    if model_best is None:\n",
        "        # load best performing model\n",
        "        model_best = torch.load(name + '.model')\n",
        "\n",
        "    model_best.eval()\n",
        "    loss = 0.\n",
        "    N = 0.\n",
        "    for indx_batch, test_batch in enumerate(test_loader):\n",
        "        loss_t = model_best.forward(test_batch, reduction='sum')\n",
        "        loss = loss + loss_t.item()\n",
        "        N = N + test_batch.shape[0]\n",
        "    loss = loss / N\n",
        "    if epoch is None:\n",
        "        print(f'FINAL LOSS: nll={loss}')\n",
        "    else:\n",
        "        print(f'Epoch: {epoch}, val nll={loss}')\n",
        "    return loss\n",
        "\n",
        "##############################################################################\n",
        "def samples_real(name, test_loader):\n",
        "    # REAL-------\n",
        "    num_x = 4\n",
        "    num_y = 4\n",
        "    x = next(iter(test_loader)).detach().numpy()\n",
        "\n",
        "    fig, ax = plt.subplots(num_x, num_y)\n",
        "    for i, ax in enumerate(ax.flatten()):\n",
        "        plottable_image = np.reshape(x[i], (8, 8))\n",
        "        ax.imshow(plottable_image, cmap='gray')\n",
        "        ax.axis('off')\n",
        "\n",
        "    #plt.savefig(name+'_real_images.pdf', bbox_inches='tight')\n",
        "    #plt.close()\n",
        "    plt.show()\n",
        "\n",
        "##############################################################################\n",
        "def samples_generated(name, data_loader, extra_name=''):\n",
        "    x = next(iter(data_loader)).detach().numpy()\n",
        "\n",
        "    # GENERATIONS-------\n",
        "    model_best = torch.load(name + '.model')\n",
        "    model_best.eval()\n",
        "\n",
        "    num_x = 4\n",
        "    num_y = 4\n",
        "    x = model_best.sample(num_x * num_y)\n",
        "    x = x.detach().numpy()\n",
        "\n",
        "    fig, ax = plt.subplots(num_x, num_y)\n",
        "    for i, ax in enumerate(ax.flatten()):\n",
        "        plottable_image = np.reshape(x[i], (8, 8))\n",
        "        ax.imshow(plottable_image, cmap='gray')\n",
        "        ax.axis('off')\n",
        "\n",
        "    #plt.savefig(name + '_generated_images' + extra_name + '.pdf', bbox_inches='tight')\n",
        "    #plt.close()\n",
        "    plt.show()\n",
        "\n",
        "##############################################################################\n",
        "def plot_curve(name, nll_val):\n",
        "    plt.plot(np.arange(len(nll_val)), nll_val, linewidth='3')\n",
        "    plt.xlabel('epochs')\n",
        "    plt.ylabel('nll')\n",
        "    #plt.savefig(name + '_nll_val_curve.pdf', bbox_inches='tight')\n",
        "    #plt.close()\n",
        "    plt.show()"
      ],
      "metadata": {
        "id": "BGxJRKjJbupf"
      },
      "execution_count": 11,
      "outputs": []
    },
    {
      "cell_type": "code",
      "source": [
        "def training(name, max_patience, num_epochs, model, optimizer, training_loader, val_loader):\n",
        "    nll_val = []\n",
        "    best_nll = 1000.\n",
        "    patience = 0\n",
        "    # Main loop\n",
        "    for e in range(num_epochs):\n",
        "        # TRAINING\n",
        "        model.train()\n",
        "        for indx_batch, batch in enumerate(training_loader):\n",
        "            if hasattr(model, 'dequantization'):\n",
        "                if model.dequantization:\n",
        "                    batch = batch + torch.rand(batch.shape)\n",
        "            loss = model.forward(batch)\n",
        "            optimizer.zero_grad()\n",
        "            loss.backward(retain_graph=True)\n",
        "            optimizer.step()\n",
        "\n",
        "        # Validation\n",
        "        loss_val = evaluation(val_loader, model_best=model, epoch=e)\n",
        "        nll_val.append(loss_val)  # save for plotting\n",
        "        #Early stopping\n",
        "        if e == 0:\n",
        "            print('saved!')\n",
        "            torch.save(model, name + '.model')\n",
        "            best_nll = loss_val\n",
        "        else:\n",
        "            if loss_val < best_nll:\n",
        "                print('saved!')\n",
        "                torch.save(model, name + '.model')\n",
        "                best_nll = loss_val\n",
        "                patience = 0\n",
        "\n",
        "                samples_generated(name, val_loader, extra_name=\"_epoch_\" + str(e))\n",
        "            else:\n",
        "                patience = patience + 1\n",
        "        if patience > max_patience:\n",
        "            break\n",
        "\n",
        "    nll_val = np.asarray(nll_val)\n",
        "    return nll_val"
      ],
      "metadata": {
        "id": "LtXmbdOvdOtr"
      },
      "execution_count": 12,
      "outputs": []
    },
    {
      "cell_type": "markdown",
      "source": [
        "# Training loop"
      ],
      "metadata": {
        "id": "KOtMRAdLdtNP"
      }
    },
    {
      "cell_type": "code",
      "source": [
        "D = 64   # input dimension\n",
        "M = 256  # the number of neurons in scale (s) and translation (t) nets\n",
        "\n",
        "lr = 1e-3 # learning rate\n",
        "num_epochs = 1000 # max. number of epochs\n",
        "max_patience = 20 # an early stopping is used, if training doesn't improve for longer than 20 epochs, it is stopped"
      ],
      "metadata": {
        "id": "AG7vB2vBdWFl"
      },
      "execution_count": 14,
      "outputs": []
    },
    {
      "cell_type": "code",
      "source": [
        "likelihood_type = 'categorical'\n",
        "\n",
        "num_vals = 17\n",
        "\n",
        "kernel = 7\n",
        "\n",
        "net = nn.Sequential(\n",
        "    CausalConv1d(in_channels=1, out_channels=M, dilation=1, kernel_size=kernel, A=True, bias=True),\n",
        "    nn.LeakyReLU(),\n",
        "    CausalConv1d(in_channels=M, out_channels=M, dilation=1, kernel_size=kernel, A=False, bias=True),\n",
        "    nn.LeakyReLU(),\n",
        "    CausalConv1d(in_channels=M, out_channels=M, dilation=1, kernel_size=kernel, A=False, bias=True),\n",
        "    nn.LeakyReLU(),\n",
        "    CausalConv1d(in_channels=M, out_channels=num_vals, dilation=1, kernel_size=kernel, A=False, bias=True))\n",
        "\n",
        "model = ARM(net, D=D, num_vals=num_vals)\n"
      ],
      "metadata": {
        "id": "4GEcWOl8du1b"
      },
      "execution_count": 15,
      "outputs": []
    },
    {
      "cell_type": "code",
      "source": [
        "# OPTIMIZER\n",
        "optimizer = torch.optim.Adamax([p for p in model.parameters() if p.requires_grad == True], lr=lr)"
      ],
      "metadata": {
        "id": "453LuBMAdxWL"
      },
      "execution_count": 16,
      "outputs": []
    },
    {
      "cell_type": "code",
      "source": [
        "# Training procedure\n",
        "nll_val = training(name= name, max_patience=max_patience, num_epochs=num_epochs, model=model, optimizer=optimizer,\n",
        "                       training_loader=training_loader, val_loader=val_loader)"
      ],
      "metadata": {
        "colab": {
          "base_uri": "https://localhost:8080/",
          "height": 1000
        },
        "id": "hWm903H9dzZO",
        "outputId": "50aa808e-88bd-48f7-e976-5b9bc628b225"
      },
      "execution_count": 17,
      "outputs": [
        {
          "output_type": "stream",
          "name": "stdout",
          "text": [
            "Epoch: 0, val nll=117.96154506138393\n",
            "saved!\n",
            "Epoch: 1, val nll=112.840546875\n",
            "saved!\n"
          ]
        },
        {
          "output_type": "display_data",
          "data": {
            "text/plain": [
              "<Figure size 640x480 with 16 Axes>"
            ],
            "image/png": "[encoded data removed]"
          },
          "metadata": {}
        },
        {
          "output_type": "stream",
          "name": "stdout",
          "text": [
            "Epoch: 2, val nll=109.90473353794643\n",
            "saved!\n"
          ]
        },
        {
          "output_type": "display_data",
          "data": {
            "text/plain": [
              "<Figure size 640x480 with 16 Axes>"
            ],
            "image/png": "[encoded data removed]"
          },
          "metadata": {}
        },
        {
          "output_type": "stream",
          "name": "stdout",
          "text": [
            "Epoch: 3, val nll=108.19070661272322\n",
            "saved!\n"
          ]
        },
        {
          "output_type": "display_data",
          "data": {
            "text/plain": [
              "<Figure size 640x480 with 16 Axes>"
            ],
            "image/png": "[encoded data removed]"
          },
          "metadata": {}
        },
        {
          "output_type": "stream",
          "name": "stdout",
          "text": [
            "Epoch: 4, val nll=106.21318429129464\n",
            "saved!\n"
          ]
        },
        {
          "output_type": "display_data",
          "data": {
            "text/plain": [
              "<Figure size 640x480 with 16 Axes>"
            ],
            "image/png": "[encoded data removed]"
          },
          "metadata": {}
        },
        {
          "output_type": "stream",
          "name": "stdout",
          "text": [
            "Epoch: 5, val nll=104.16677315848214\n",
            "saved!\n"
          ]
        },
        {
          "output_type": "display_data",
          "data": {
            "text/plain": [
              "<Figure size 640x480 with 16 Axes>"
            ],
            "image/png": "[encoded data removed]"
          },
          "metadata": {}
        },
        {
          "output_type": "stream",
          "name": "stdout",
          "text": [
            "Epoch: 6, val nll=102.01899274553571\n",
            "saved!\n"
          ]
        },
        {
          "output_type": "display_data",
          "data": {
            "text/plain": [
              "<Figure size 640x480 with 16 Axes>"
            ],
            "image/png": "[encoded data removed]"
          },
          "metadata": {}
        },
        {
          "output_type": "stream",
          "name": "stdout",
          "text": [
            "Epoch: 7, val nll=99.360517578125\n",
            "saved!\n"
          ]
        },
        {
          "output_type": "display_data",
          "data": {
            "text/plain": [
              "<Figure size 640x480 with 16 Axes>"
            ],
            "image/png": "[encoded data removed]"
          },
          "metadata": {}
        },
        {
          "output_type": "stream",
          "name": "stdout",
          "text": [
            "Epoch: 8, val nll=97.86861607142858\n",
            "saved!\n"
          ]
        },
        {
          "output_type": "display_data",
          "data": {
            "text/plain": [
              "<Figure size 640x480 with 16 Axes>"
            ],
            "image/png": "[encoded data removed]"
          },
          "metadata": {}
        },
        {
          "output_type": "stream",
          "name": "stdout",
          "text": [
            "Epoch: 9, val nll=96.34858816964285\n",
            "saved!\n"
          ]
        },
        {
          "output_type": "display_data",
          "data": {
            "text/plain": [
              "<Figure size 640x480 with 16 Axes>"
            ],
            "image/png": "[encoded data removed]"
          },
          "metadata": {}
        },
        {
          "output_type": "stream",
          "name": "stdout",
          "text": [
            "Epoch: 10, val nll=95.39470424107142\n",
            "saved!\n"
          ]
        },
        {
          "output_type": "display_data",
          "data": {
            "text/plain": [
              "<Figure size 640x480 with 16 Axes>"
            ],
            "image/png": "[encoded data removed]"
          },
          "metadata": {}
        },
        {
          "output_type": "stream",
          "name": "stdout",
          "text": [
            "Epoch: 11, val nll=94.34258928571428\n",
            "saved!\n"
          ]
        },
        {
          "output_type": "display_data",
          "data": {
            "text/plain": [
              "<Figure size 640x480 with 16 Axes>"
            ],
            "image/png": "[encoded data removed]"
          },
          "metadata": {}
        },
        {
          "output_type": "stream",
          "name": "stdout",
          "text": [
            "Epoch: 12, val nll=93.48424176897322\n",
            "saved!\n"
          ]
        },
        {
          "output_type": "display_data",
          "data": {
            "text/plain": [
              "<Figure size 640x480 with 16 Axes>"
            ],
            "image/png": "[encoded data removed]"
          },
          "metadata": {}
        },
        {
          "output_type": "stream",
          "name": "stdout",
          "text": [
            "Epoch: 13, val nll=93.2666796875\n",
            "saved!\n"
          ]
        },
        {
          "output_type": "display_data",
          "data": {
            "text/plain": [
              "<Figure size 640x480 with 16 Axes>"
            ],
            "image/png": "[encoded data removed]"
          },
          "metadata": {}
        },
        {
          "output_type": "stream",
          "name": "stdout",
          "text": [
            "Epoch: 14, val nll=92.75225864955357\n",
            "saved!\n"
          ]
        },
        {
          "output_type": "display_data",
          "data": {
            "text/plain": [
              "<Figure size 640x480 with 16 Axes>"
            ],
            "image/png": "[encoded data removed]"
          },
          "metadata": {}
        },
        {
          "output_type": "stream",
          "name": "stdout",
          "text": [
            "Epoch: 15, val nll=93.00838588169643\n",
            "Epoch: 16, val nll=91.97177455357142\n",
            "saved!\n"
          ]
        },
        {
          "output_type": "display_data",
          "data": {
            "text/plain": [
              "<Figure size 640x480 with 16 Axes>"
            ],
            "image/png": "[encoded data removed]"
          },
          "metadata": {}
        },
        {
          "output_type": "stream",
          "name": "stdout",
          "text": [
            "Epoch: 17, val nll=91.92378138950893\n",
            "saved!\n"
          ]
        },
        {
          "output_type": "display_data",
          "data": {
            "text/plain": [
              "<Figure size 640x480 with 16 Axes>"
            ],
            "image/png": "[encoded data removed]"
          },
          "metadata": {}
        },
        {
          "output_type": "stream",
          "name": "stdout",
          "text": [
            "Epoch: 18, val nll=91.55356166294642\n",
            "saved!\n"
          ]
        },
        {
          "output_type": "display_data",
          "data": {
            "text/plain": [
              "<Figure size 640x480 with 16 Axes>"
            ],
            "image/png": "[encoded data removed]"
          },
          "metadata": {}
        },
        {
          "output_type": "stream",
          "name": "stdout",
          "text": [
            "Epoch: 19, val nll=91.42190080915178\n",
            "saved!\n"
          ]
        },
        {
          "output_type": "display_data",
          "data": {
            "text/plain": [
              "<Figure size 640x480 with 16 Axes>"
            ],
            "image/png": "[encoded data removed]"
          },
          "metadata": {}
        },
        {
          "output_type": "stream",
          "name": "stdout",
          "text": [
            "Epoch: 20, val nll=91.27979771205356\n",
            "saved!\n"
          ]
        },
        {
          "output_type": "display_data",
          "data": {
            "text/plain": [
              "<Figure size 640x480 with 16 Axes>"
            ],
            "image/png": "[encoded data removed]"
          },
          "metadata": {}
        },
        {
          "output_type": "stream",
          "name": "stdout",
          "text": [
            "Epoch: 21, val nll=90.86494419642857\n",
            "saved!\n"
          ]
        },
        {
          "output_type": "display_data",
          "data": {
            "text/plain": [
              "<Figure size 640x480 with 16 Axes>"
            ],
            "image/png": "[encoded data removed]"
          },
          "metadata": {}
        },
        {
          "output_type": "stream",
          "name": "stdout",
          "text": [
            "Epoch: 22, val nll=91.083857421875\n",
            "Epoch: 23, val nll=90.80703752790178\n",
            "saved!\n"
          ]
        },
        {
          "output_type": "display_data",
          "data": {
            "text/plain": [
              "<Figure size 640x480 with 16 Axes>"
            ],
            "image/png": "[encoded data removed]"
          },
          "metadata": {}
        },
        {
          "output_type": "stream",
          "name": "stdout",
          "text": [
            "Epoch: 24, val nll=90.13779715401786\n",
            "saved!\n"
          ]
        },
        {
          "output_type": "display_data",
          "data": {
            "text/plain": [
              "<Figure size 640x480 with 16 Axes>"
            ],
            "image/png": "[encoded data removed]"
          },
          "metadata": {}
        },
        {
          "output_type": "stream",
          "name": "stdout",
          "text": [
            "Epoch: 25, val nll=90.26022042410715\n",
            "Epoch: 26, val nll=90.16321358816964\n",
            "Epoch: 27, val nll=90.35238071986608\n",
            "Epoch: 28, val nll=89.83671177455358\n",
            "saved!\n"
          ]
        },
        {
          "output_type": "display_data",
          "data": {
            "text/plain": [
              "<Figure size 640x480 with 16 Axes>"
            ],
            "image/png": "[encoded data removed]"
          },
          "metadata": {}
        },
        {
          "output_type": "stream",
          "name": "stdout",
          "text": [
            "Epoch: 29, val nll=89.87807407924107\n",
            "Epoch: 30, val nll=89.82228376116072\n",
            "saved!\n"
          ]
        },
        {
          "output_type": "display_data",
          "data": {
            "text/plain": [
              "<Figure size 640x480 with 16 Axes>"
            ],
            "image/png": "[encoded data removed]"
          },
          "metadata": {}
        },
        {
          "output_type": "stream",
          "name": "stdout",
          "text": [
            "Epoch: 31, val nll=89.50030412946428\n",
            "saved!\n"
          ]
        },
        {
          "output_type": "display_data",
          "data": {
            "text/plain": [
              "<Figure size 640x480 with 16 Axes>"
            ],
            "image/png": "[encoded data removed]"
          },
          "metadata": {}
        },
        {
          "output_type": "stream",
          "name": "stdout",
          "text": [
            "Epoch: 32, val nll=89.75068708147322\n",
            "Epoch: 33, val nll=89.7234912109375\n",
            "Epoch: 34, val nll=89.71050920758928\n",
            "Epoch: 35, val nll=89.28854352678572\n",
            "saved!\n"
          ]
        },
        {
          "output_type": "display_data",
          "data": {
            "text/plain": [
              "<Figure size 640x480 with 16 Axes>"
            ],
            "image/png": "[encoded data removed]"
          },
          "metadata": {}
        },
        {
          "output_type": "stream",
          "name": "stdout",
          "text": [
            "Epoch: 36, val nll=89.96264787946428\n",
            "Epoch: 37, val nll=89.67235421316964\n",
            "Epoch: 38, val nll=89.56266183035714\n",
            "Epoch: 39, val nll=89.544541015625\n",
            "Epoch: 40, val nll=89.4917822265625\n",
            "Epoch: 41, val nll=89.38889997209822\n",
            "Epoch: 42, val nll=89.51500069754464\n",
            "Epoch: 43, val nll=89.71557268415178\n",
            "Epoch: 44, val nll=89.59673897879465\n",
            "Epoch: 45, val nll=89.34100446428572\n",
            "Epoch: 46, val nll=89.18009486607143\n",
            "saved!\n"
          ]
        },
        {
          "output_type": "display_data",
          "data": {
            "text/plain": [
              "<Figure size 640x480 with 16 Axes>"
            ],
            "image/png": "[encoded data removed]"
          },
          "metadata": {}
        },
        {
          "output_type": "stream",
          "name": "stdout",
          "text": [
            "Epoch: 47, val nll=89.50433244977678\n",
            "Epoch: 48, val nll=89.47355050223214\n",
            "Epoch: 49, val nll=89.94711565290179\n",
            "Epoch: 50, val nll=89.67667410714286\n",
            "Epoch: 51, val nll=89.47678920200893\n",
            "Epoch: 52, val nll=89.98880022321428\n",
            "Epoch: 53, val nll=90.0461083984375\n",
            "Epoch: 54, val nll=89.68814453125\n",
            "Epoch: 55, val nll=90.12336844308035\n",
            "Epoch: 56, val nll=90.24584054129464\n",
            "Epoch: 57, val nll=90.15315359933035\n",
            "Epoch: 58, val nll=90.26488699776786\n",
            "Epoch: 59, val nll=90.14727399553571\n",
            "Epoch: 60, val nll=91.17082170758928\n",
            "Epoch: 61, val nll=90.64602190290178\n",
            "Epoch: 62, val nll=90.07730817522321\n",
            "Epoch: 63, val nll=90.5478076171875\n",
            "Epoch: 64, val nll=90.74981305803571\n",
            "Epoch: 65, val nll=90.55563685825892\n",
            "Epoch: 66, val nll=90.56274623325893\n",
            "Epoch: 67, val nll=90.84000767299108\n"
          ]
        }
      ]
    },
    {
      "cell_type": "code",
      "source": [
        "test_loss = evaluation(name=name, test_loader=test_loader)\n",
        "test_loss"
      ],
      "metadata": {
        "colab": {
          "base_uri": "https://localhost:8080/"
        },
        "id": "QdRo_s5rd3fJ",
        "outputId": "498b961c-9647-4a6d-9fc5-1fea86bdb2f8"
      },
      "execution_count": 18,
      "outputs": [
        {
          "output_type": "stream",
          "name": "stdout",
          "text": [
            "FINAL LOSS: nll=86.3960802048378\n"
          ]
        },
        {
          "output_type": "execute_result",
          "data": {
            "text/plain": [
              "86.3960802048378"
            ]
          },
          "metadata": {},
          "execution_count": 18
        }
      ]
    },
    {
      "cell_type": "code",
      "source": [
        "samples_real(name, test_loader)"
      ],
      "metadata": {
        "colab": {
          "base_uri": "https://localhost:8080/",
          "height": 406
        },
        "id": "LL_uirbpeC_y",
        "outputId": "8dc98ea2-303b-4ad2-9cc6-2521d27d879b"
      },
      "execution_count": 19,
      "outputs": [
        {
          "output_type": "display_data",
          "data": {
            "text/plain": [
              "<Figure size 640x480 with 16 Axes>"
            ],
            "image/png": "[encoded data removed]"
          },
          "metadata": {}
        }
      ]
    },
    {
      "cell_type": "code",
      "source": [
        "plot_curve(name, nll_val)"
      ],
      "metadata": {
        "colab": {
          "base_uri": "https://localhost:8080/",
          "height": 449
        },
        "id": "d_Dup2pHeEpL",
        "outputId": "74fd0356-e49e-44cc-c395-3c7b79e81c2f"
      },
      "execution_count": 20,
      "outputs": [
        {
          "output_type": "display_data",
          "data": {
            "text/plain": [
              "<Figure size 640x480 with 1 Axes>"
            ],
            "image/png": "[encoded data removed]"
          },
          "metadata": {}
        }
      ]
    },
    {
      "cell_type": "code",
      "source": [],
      "metadata": {
        "id": "YyQiAVO3eFcx"
      },
      "execution_count": null,
      "outputs": []
    }
  ]
}