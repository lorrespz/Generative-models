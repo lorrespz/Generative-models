{
  "nbformat": 4,
  "nbformat_minor": 0,
  "metadata": {
    "colab": {
      "provenance": [],
      "authorship_tag": "ABX9TyMW//dGhdBOxX28N5BFhYo9",
      "include_colab_link": true
    },
    "kernelspec": {
      "name": "python3",
      "display_name": "Python 3"
    },
    "language_info": {
      "name": "python"
    }
  },
  "cells": [
    {
      "cell_type": "markdown",
      "metadata": {
        "id": "view-in-github",
        "colab_type": "text"
      },
      "source": [
        "<a href=\"https://colab.research.google.com/github/lorrespz/Generative-models/blob/main/Autoregressive_Models_with_Causal1DCNN_layers.ipynb\" target=\"_parent\"><img src=\"https://colab.research.google.com/assets/colab-badge.svg\" alt=\"Open In Colab\"/></a>"
      ]
    },
    {
      "cell_type": "markdown",
      "source": [
        "# Autoregressive Models with Causal1DCNN layers\n",
        "\n",
        "This notebook follows the text book \"Deep Generative Modeling\" by Jakub Tomczak and his code at\n",
        "\n",
        "https://github.com/jmtomczak/intro_dgm/blob/main/arms/arm_example.ipynb\n",
        "\n",
        "\n",
        "## Overview of autoregressive generative modeling\n",
        "\n",
        "Given a random variable $\\mathbf{x} \\in X^D$\n",
        "our goal is to model $p(\\mathbf{x})$. The product rule that allows us to factorize the joint distribution of $\\mathbf{x} = [x_1, x_2, \\ldots, x_T]$ states that\n",
        "\n",
        "$p(\\mathbf{x}) = p(x_1) \\prod_{d=2}^D p(x_d|\\mathbf{x}_{<d})$\n",
        "\n",
        "e.g. for $\\mathbf{x} = [x_1, x_2, x_3]$, we have\n",
        "$p(\\mathbf{x}) = p(x_1)p(x_2|x_1) p(x_3|x_1, x_2)$.\n",
        "\n",
        "- To simplify the computation, we can assume that each variable is dependent on no more than two other variables, namely:\n",
        "\n",
        "  - $p(\\mathbf{x}) = p(x_1) p(x_2|x_1)\\prod_{d=3}^D p(x_d|x_{d-1}, x_{d-2})$\n",
        "\n",
        "  Then, we can use a small neural network to predict the distribution of $x_d$.\n",
        "\n",
        "- If the data is of the form $X = [0, 1, \\ldots, 255]$,  the neural network takes as inputs $x_{d-1}, x_{d-2}$ and outputs the probabilities for the categorical distribution $\\theta_d$ of $x_d$. Popular choice for the realization of the neural network is one consisting of *causal* 1D convolutional layers."
      ],
      "metadata": {
        "id": "W3mb849wPAkg"
      }
    },
    {
      "cell_type": "code",
      "execution_count": 1,
      "metadata": {
        "id": "HQwWnKzeOx6w"
      },
      "outputs": [],
      "source": [
        "import os\n",
        "import numpy as np\n",
        "import matplotlib.pyplot as plt\n",
        "import torch\n",
        "from sklearn.datasets import load_digits\n",
        "from sklearn import datasets\n",
        "from torch.utils.data import Dataset, DataLoader\n",
        "import torch.nn as nn\n",
        "import torch.nn.functional as F\n",
        "\n",
        "#from pytorch_model_summary import summary"
      ]
    },
    {
      "cell_type": "markdown",
      "source": [
        "# Load data: Digits from sklearn"
      ],
      "metadata": {
        "id": "YIS8Ot07ZXvA"
      }
    },
    {
      "cell_type": "code",
      "source": [
        "\n",
        "class Digits(Dataset):\n",
        "    \"\"\"Scikit-Learn Digits dataset.\"\"\"\n",
        "\n",
        "    def __init__(self, mode='train', transforms=None):\n",
        "        digits = load_digits()\n",
        "        if mode == 'train':\n",
        "            self.data = digits.data[:1000].astype(np.float32)\n",
        "        elif mode == 'val':\n",
        "            self.data = digits.data[1000:1350].astype(np.float32)\n",
        "        else:\n",
        "            self.data = digits.data[1350:].astype(np.float32)\n",
        "\n",
        "        self.transforms = transforms\n",
        "\n",
        "    def __len__(self):\n",
        "        return len(self.data)\n",
        "\n",
        "    def __getitem__(self, idx):\n",
        "        sample = self.data[idx]\n",
        "        if self.transforms:\n",
        "            sample = self.transforms(sample)\n",
        "        return sample"
      ],
      "metadata": {
        "id": "JFpyEF38SLfJ"
      },
      "execution_count": 2,
      "outputs": []
    },
    {
      "cell_type": "code",
      "source": [
        "train_set = Digits()\n",
        "print(f'There are {len(train_set)} samples in the train set')\n",
        "for data in train_set:\n",
        "  print(len(data), data)\n",
        "  break"
      ],
      "metadata": {
        "colab": {
          "base_uri": "https://localhost:8080/"
        },
        "id": "ua71GmDUZduA",
        "outputId": "e13a1768-d4a2-4368-9e75-11f2a9ede814"
      },
      "execution_count": 3,
      "outputs": [
        {
          "output_type": "stream",
          "name": "stdout",
          "text": [
            "There are 1000 samples in the train set\n",
            "64 [ 0.  0.  5. 13.  9.  1.  0.  0.  0.  0. 13. 15. 10. 15.  5.  0.  0.  3.\n",
            " 15.  2.  0. 11.  8.  0.  0.  4. 12.  0.  0.  8.  8.  0.  0.  5.  8.  0.\n",
            "  0.  9.  8.  0.  0.  4. 11.  0.  1. 12.  7.  0.  0.  2. 14.  5. 10. 12.\n",
            "  0.  0.  0.  0.  6. 13. 10.  0.  0.  0.]\n"
          ]
        }
      ]
    },
    {
      "cell_type": "code",
      "source": [
        "train_data = Digits(mode='train')\n",
        "val_data = Digits(mode='val')\n",
        "test_data = Digits(mode='test')\n",
        "\n",
        "training_loader = DataLoader(train_data, batch_size=64, shuffle=True)\n",
        "val_loader = DataLoader(val_data, batch_size=64, shuffle=False)\n",
        "test_loader = DataLoader(test_data, batch_size=64, shuffle=False)\n",
        "\n",
        "#result_dir = 'results/'\n",
        "#if not(os.path.exists(result_dir)):\n",
        "#    os.mkdir(result_dir)\n",
        "name = 'arm'"
      ],
      "metadata": {
        "id": "KfTxW8ZddZ_8"
      },
      "execution_count": 4,
      "outputs": []
    },
    {
      "cell_type": "markdown",
      "source": [
        "# Utility functions"
      ],
      "metadata": {
        "id": "xD2zjzPLNclu"
      }
    },
    {
      "cell_type": "code",
      "source": [
        "##############################################################################\n",
        "def evaluation(test_loader, name=None, model_best=None, epoch=None):\n",
        "    # EVALUATION\n",
        "    if model_best is None:\n",
        "        # load best performing model\n",
        "        model_best = torch.load(name + '.model')\n",
        "\n",
        "    model_best.eval()\n",
        "    loss = 0.\n",
        "    N = 0.\n",
        "    for indx_batch, test_batch in enumerate(test_loader):\n",
        "        loss_t = model_best.forward(test_batch, reduction='sum')\n",
        "        loss = loss + loss_t.item()\n",
        "        N = N + test_batch.shape[0]\n",
        "    loss = loss / N\n",
        "    if epoch is None:\n",
        "        print(f'FINAL LOSS: nll={loss}')\n",
        "    else:\n",
        "        print(f'Epoch: {epoch}, val nll={loss}')\n",
        "    return loss\n",
        "\n",
        "##############################################################################\n",
        "def samples_real(name, test_loader):\n",
        "    # REAL-------\n",
        "    num_x = 4\n",
        "    num_y = 4\n",
        "    x = next(iter(test_loader)).detach().numpy()\n",
        "\n",
        "    fig, ax = plt.subplots(num_x, num_y)\n",
        "    for i, ax in enumerate(ax.flatten()):\n",
        "        plottable_image = np.reshape(x[i], (8, 8))\n",
        "        ax.imshow(plottable_image, cmap='gray')\n",
        "        ax.axis('off')\n",
        "\n",
        "    #plt.savefig(name+'_real_images.pdf', bbox_inches='tight')\n",
        "    #plt.close()\n",
        "    plt.show()\n",
        "\n",
        "##############################################################################\n",
        "def samples_generated(name, data_loader, extra_name=''):\n",
        "    x = next(iter(data_loader)).detach().numpy()\n",
        "\n",
        "    # GENERATIONS-------\n",
        "    model_best = torch.load(name + '.model')\n",
        "    model_best.eval()\n",
        "\n",
        "    num_x = 4\n",
        "    num_y = 4\n",
        "    x = model_best.sample(num_x * num_y)\n",
        "    x = x.detach().numpy()\n",
        "\n",
        "    fig, ax = plt.subplots(num_x, num_y)\n",
        "    for i, ax in enumerate(ax.flatten()):\n",
        "        plottable_image = np.reshape(x[i], (8, 8))\n",
        "        ax.imshow(plottable_image, cmap='gray')\n",
        "        ax.axis('off')\n",
        "\n",
        "    #plt.savefig(name + '_generated_images' + extra_name + '.pdf', bbox_inches='tight')\n",
        "    #plt.close()\n",
        "    plt.show()\n",
        "\n",
        "##############################################################################\n",
        "def plot_curve(name, nll_val):\n",
        "    plt.plot(np.arange(len(nll_val)), nll_val, linewidth='3')\n",
        "    plt.xlabel('epochs')\n",
        "    plt.ylabel('nll')\n",
        "    #plt.savefig(name + '_nll_val_curve.pdf', bbox_inches='tight')\n",
        "    #plt.close()\n",
        "    plt.show()"
      ],
      "metadata": {
        "id": "BGxJRKjJbupf"
      },
      "execution_count": 5,
      "outputs": []
    },
    {
      "cell_type": "code",
      "source": [
        "def training(name, max_patience, num_epochs, model, optimizer, training_loader, val_loader):\n",
        "    nll_val = []\n",
        "    best_nll = 1000.\n",
        "    patience = 0\n",
        "    # Main loop\n",
        "    for e in range(num_epochs):\n",
        "        # TRAINING\n",
        "        model.train()\n",
        "        for indx_batch, batch in enumerate(training_loader):\n",
        "            loss = model.forward(batch)\n",
        "            optimizer.zero_grad()\n",
        "            loss.backward(retain_graph=True)\n",
        "            optimizer.step()\n",
        "\n",
        "        # Validation\n",
        "        loss_val = evaluation(val_loader, model_best=model, epoch=e)\n",
        "        nll_val.append(loss_val)  # save for plotting\n",
        "        #Early stopping\n",
        "        if e == 0:\n",
        "            print('saved!')\n",
        "            torch.save(model, name + '.model')\n",
        "            best_nll = loss_val\n",
        "        else:\n",
        "            if loss_val < best_nll:\n",
        "                print('saved!')\n",
        "                torch.save(model, name + '.model')\n",
        "                best_nll = loss_val\n",
        "                patience = 0\n",
        "\n",
        "                samples_generated(name, val_loader, extra_name=\"_epoch_\" + str(e))\n",
        "            else:\n",
        "                patience = patience + 1\n",
        "        if patience > max_patience:\n",
        "            break\n",
        "\n",
        "    nll_val = np.asarray(nll_val)\n",
        "    return nll_val"
      ],
      "metadata": {
        "id": "LtXmbdOvdOtr"
      },
      "execution_count": 6,
      "outputs": []
    },
    {
      "cell_type": "markdown",
      "source": [
        "# Causal Conv1D layer"
      ],
      "metadata": {
        "id": "k_wW5JfFaBt0"
      }
    },
    {
      "cell_type": "code",
      "source": [
        "class CausalConv1d(nn.Module):\n",
        "    \"\"\"\n",
        "    A causal 1D convolution.\n",
        "    \"\"\"\n",
        "\n",
        "    def __init__(self, in_channels, out_channels, kernel_size, dilation, A=False, **kwargs):\n",
        "        super(CausalConv1d, self).__init__()\n",
        "\n",
        "        # attributes:\n",
        "        self.kernel_size = kernel_size\n",
        "        self.dilation = dilation\n",
        "        self.A = A\n",
        "\n",
        "        self.padding = (kernel_size - 1) * dilation + A * 1\n",
        "\n",
        "        # module:\n",
        "        self.conv1d = torch.nn.Conv1d(in_channels, out_channels,\n",
        "                                      kernel_size, stride=1,\n",
        "                                      padding=0,\n",
        "                                      dilation=dilation,\n",
        "                                      **kwargs)\n",
        "\n",
        "    def forward(self, x):\n",
        "        x = torch.nn.functional.pad(x, (self.padding, 0))\n",
        "        conv1d_out = self.conv1d(x)\n",
        "        if self.A:\n",
        "          # Not taking into account the last layer\n",
        "            return conv1d_out[:, :, : -1]\n",
        "        else:\n",
        "            return conv1d_out"
      ],
      "metadata": {
        "id": "0oIx2ll_ZdwU"
      },
      "execution_count": 7,
      "outputs": []
    },
    {
      "cell_type": "markdown",
      "source": [
        "# Distribution and objective function\n",
        "\n",
        "$p(\\mathbf{x})$ is model as follows:\n",
        "\n",
        "$p(x_d|\\mathbf{x}_{<d}) = \\text{Categorical}(x_d|\\theta_d(\\mathbf{x}_{<d})) = \\prod_{l=1}^L (\\theta_{d,l})^{[x_d = l]}$\n",
        "\n",
        "Note that $[a=b]$ means that $[a=b]=1$ if $a=b$ or 0 if $a\\neq b$.\n",
        "$\\theta_d \\in [0,1]$ is the outout of the CausalConv1D-based neural network with the softmax in the last layer, so $\\sum^L_{l=1}\\theta_{d,l} = 1$.\n",
        "\n",
        "The objective function for ARMs, which are the likelihood-based models, are the minimization of the negative logarithm of the likelihood function (or maximization of the logarithm of the likelihood function)\n",
        "\n",
        "$\\begin{eqnarray}\\ln p(D) &=& \\ln \\prod_n p(x_n) \\nonumber\\\\\n",
        "&=& \\sum_n \\ln p(x_n) = \\sum_n \\ln\\left(\\prod_d p(x_{n,d}|x_{n, <d})\\right)\\nonumber\\\\\n",
        "&=& \\sum_n \\sum_d\\ln\\left( p(x_{n,d}|x_{n, <d})\\right)\\nonumber\\\\\n",
        "&=& \\sum_n \\sum_d\\left( \\ln \\text{Categorical}(x_{n,d}|x_{n, <d})\\right)\\nonumber\\\\\n",
        "&=& \\sum_n \\sum_d\\sum_{l=1}^L\\left([x_d = l] \\ln\\theta_d\\right)\\nonumber\\\\\n",
        "\\end{eqnarray}$\n",
        "\n",
        "By parameterizing the conditionals by CausalConv1D, we can calculate all $\\theta_d$ in one forward pass and then check the pixel value. Ideally, we want $\\theta_{d,l}$ to be as close to 1 as possible if $x_d = l$."
      ],
      "metadata": {
        "id": "U52Ov6vrZ62W"
      }
    },
    {
      "cell_type": "code",
      "source": [
        "EPS = 1.e-5\n",
        "\n",
        "def log_categorical(x, p, num_classes=256, reduction=None, dim=None):\n",
        "    x_one_hot = F.one_hot(x.long(), num_classes=num_classes)\n",
        "    log_p = x_one_hot * torch.log(torch.clamp(p, EPS, 1. - EPS))\n",
        "    if reduction == 'avg':\n",
        "        return torch.mean(log_p, dim)\n",
        "    elif reduction == 'sum':\n",
        "        return torch.sum(log_p, dim)\n",
        "    else:\n",
        "        return log_p"
      ],
      "metadata": {
        "id": "uT9E03foYkZj"
      },
      "execution_count": 8,
      "outputs": []
    },
    {
      "cell_type": "markdown",
      "source": [
        "# Autoregressive model with Conv1D layers"
      ],
      "metadata": {
        "id": "SmbEctElZ9E1"
      }
    },
    {
      "cell_type": "code",
      "source": [
        "class ARM(nn.Module):\n",
        "    def __init__(self, net, D=2, num_vals=256):\n",
        "        super(ARM, self).__init__()\n",
        "        self.net = net\n",
        "        self.num_vals = num_vals\n",
        "        self.D = D\n",
        "    #Pass the data through the network to get a categorical probability distribution\n",
        "    def f(self, x):\n",
        "        h = self.net(x.unsqueeze(1))\n",
        "        h = h.permute(0, 2, 1)\n",
        "        p = torch.softmax(h, 2)\n",
        "        return p\n",
        "\n",
        "    #This is the loss function definition\n",
        "    def log_prob(self, x):\n",
        "        mu_d = self.f(x)\n",
        "        log_p = log_categorical(x, mu_d, num_classes=self.num_vals, reduction='sum', dim=-1).sum(-1)\n",
        "        return log_p\n",
        "\n",
        "    #This is the loss function called by model.forward(), returns log_prob\n",
        "    def forward(self, x, reduction='avg'):\n",
        "        if reduction == 'avg':\n",
        "            return -(self.log_prob(x).mean())\n",
        "        elif reduction == 'sum':\n",
        "            return -(self.log_prob(x).sum())\n",
        "        else:\n",
        "            raise ValueError('reduction could be either `avg` or `sum`.')\n",
        "\n",
        "    #This is the generation function\n",
        "    def sample(self, batch_size):\n",
        "        x_new = torch.zeros((batch_size, self.D))\n",
        "        for d in range(self.D):\n",
        "            p = self.f(x_new)\n",
        "            x_new_d = torch.multinomial(p[:, d, :], num_samples=1)\n",
        "            x_new[:, d] = x_new_d[:,0]\n",
        "        return x_new"
      ],
      "metadata": {
        "id": "2IXzLSr_Ykcb"
      },
      "execution_count": 9,
      "outputs": []
    },
    {
      "cell_type": "markdown",
      "source": [
        "# Model parameters"
      ],
      "metadata": {
        "id": "KOtMRAdLdtNP"
      }
    },
    {
      "cell_type": "code",
      "source": [
        "D = 64   # input dimension\n",
        "M = 256  # the number of neurons in scale (s) and translation (t) nets\n",
        "\n",
        "lr = 1e-3 # learning rate\n",
        "num_epochs = 1000 # max. number of epochs\n",
        "max_patience = 20 # an early stopping is used, if training doesn't improve for longer than 20 epochs, it is stopped"
      ],
      "metadata": {
        "id": "AG7vB2vBdWFl"
      },
      "execution_count": 10,
      "outputs": []
    },
    {
      "cell_type": "code",
      "source": [
        "likelihood_type = 'categorical'\n",
        "\n",
        "num_vals = 17\n",
        "\n",
        "kernel = 7\n",
        "\n",
        "net = nn.Sequential(\n",
        "    CausalConv1d(in_channels=1, out_channels=M, dilation=1, kernel_size=kernel, A=True, bias=True),\n",
        "    nn.LeakyReLU(),\n",
        "    CausalConv1d(in_channels=M, out_channels=M, dilation=1, kernel_size=kernel, A=False, bias=True),\n",
        "    nn.LeakyReLU(),\n",
        "    CausalConv1d(in_channels=M, out_channels=M, dilation=1, kernel_size=kernel, A=False, bias=True),\n",
        "    nn.LeakyReLU(),\n",
        "    CausalConv1d(in_channels=M, out_channels=num_vals, dilation=1, kernel_size=kernel, A=False, bias=True))\n",
        "\n",
        "model = ARM(net, D=D, num_vals=num_vals)\n"
      ],
      "metadata": {
        "id": "4GEcWOl8du1b"
      },
      "execution_count": 11,
      "outputs": []
    },
    {
      "cell_type": "code",
      "source": [
        "# OPTIMIZER\n",
        "optimizer = torch.optim.Adamax([p for p in model.parameters() if p.requires_grad == True], lr=lr)"
      ],
      "metadata": {
        "id": "453LuBMAdxWL"
      },
      "execution_count": 12,
      "outputs": []
    },
    {
      "cell_type": "code",
      "source": [
        "model"
      ],
      "metadata": {
        "colab": {
          "base_uri": "https://localhost:8080/"
        },
        "id": "XvjLkcNSO9gt",
        "outputId": "5b85c9d9-6cf4-4919-c998-38af2752f6a6"
      },
      "execution_count": 14,
      "outputs": [
        {
          "output_type": "execute_result",
          "data": {
            "text/plain": [
              "ARM(\n",
              "  (net): Sequential(\n",
              "    (0): CausalConv1d(\n",
              "      (conv1d): Conv1d(1, 256, kernel_size=(7,), stride=(1,))\n",
              "    )\n",
              "    (1): LeakyReLU(negative_slope=0.01)\n",
              "    (2): CausalConv1d(\n",
              "      (conv1d): Conv1d(256, 256, kernel_size=(7,), stride=(1,))\n",
              "    )\n",
              "    (3): LeakyReLU(negative_slope=0.01)\n",
              "    (4): CausalConv1d(\n",
              "      (conv1d): Conv1d(256, 256, kernel_size=(7,), stride=(1,))\n",
              "    )\n",
              "    (5): LeakyReLU(negative_slope=0.01)\n",
              "    (6): CausalConv1d(\n",
              "      (conv1d): Conv1d(256, 17, kernel_size=(7,), stride=(1,))\n",
              "    )\n",
              "  )\n",
              ")"
            ]
          },
          "metadata": {},
          "execution_count": 14
        }
      ]
    },
    {
      "cell_type": "markdown",
      "source": [
        "# Trace the input through the network"
      ],
      "metadata": {
        "id": "CtjgVhjxQayf"
      }
    },
    {
      "cell_type": "code",
      "source": [
        "for indx_batch, batch in enumerate(training_loader):\n",
        " batch0 = batch\n",
        " break"
      ],
      "metadata": {
        "id": "1j2Jqz7bWTHi"
      },
      "execution_count": 53,
      "outputs": []
    },
    {
      "cell_type": "code",
      "source": [
        "print('Directly pass the input through the \"forward\" method')\n",
        "\n",
        "print(f'An input batch taken from the train loader has shape {batch0.shape}\\n')\n",
        "\n",
        "out = model.forward(batch0)\n",
        "print(f'The output after \"forward\" has shape {out.shape}\\n')\n",
        "print(out)"
      ],
      "metadata": {
        "colab": {
          "base_uri": "https://localhost:8080/"
        },
        "id": "8czLiGJETqAB",
        "outputId": "ec338108-38d1-4647-db40-0e6f24a65e88"
      },
      "execution_count": 54,
      "outputs": [
        {
          "output_type": "stream",
          "name": "stdout",
          "text": [
            "Directly pass the input through the \"forward\" method\n",
            "An input batch taken from the train loader has shape torch.Size([64, 64])\n",
            "\n",
            "The output after \"forward\" has shape torch.Size([])\n",
            "\n",
            "tensor(84.6058, grad_fn=<NegBackward0>)\n"
          ]
        }
      ]
    },
    {
      "cell_type": "code",
      "source": [
        "print(f'Step-by-step passing the input through')\n",
        "\n",
        "batch0 = batch0.unsqueeze(1)\n",
        "print(f'New shape {batch0.shape}\\n')\n",
        "\n",
        "print('CALCULATING f(x)')\n",
        "h = model.net(batch0)\n",
        "print(f'Shape of output h after passing batch0 through model.net {h.shape}\\n')\n",
        "h = h.permute(0,2,1)\n",
        "print(f'After permuting, h new shape is {h.shape}\\n')\n",
        "p = torch.softmax(h,2)\n",
        "print( 'When the softmax function is applied to an n-dimensional input tensor, it rescales them so that the elements of \\\n",
        "      \\n the n-dimensional output Tensor lie in the range [0,1] and sum to 1.\\n')\n",
        "print(f'Parameter p obtained by taking the softmax of h has shape {p.shape}\\n')\n",
        "\n",
        "print('CALCULATING log_prob(x)')\n",
        "log_p0 = log_categorical(batch0, p, num_classes=17, reduction='sum', dim=-1)\n",
        "print(f'log_p is the result of taking the log_categorical of batch0 and p\\n')\n",
        "print(f'log_p has shape {log_p0.shape}')\n",
        "\n",
        "log_p = log_p0.sum(-1)\n",
        "print(f'After taking the sum(-1), the shape is {log_p.shape}')\n",
        "\n",
        "out1 = -(log_p.mean())\n",
        "out2 = -(log_p.sum())\n",
        "print(f'The output is either the mean of log_p or the sum of log_p, {out1.shape}, {out2.shape}')\n",
        "print(f'Mean output {out1}, sum output {out2}')"
      ],
      "metadata": {
        "colab": {
          "base_uri": "https://localhost:8080/"
        },
        "id": "VwLPqUJ4Qfvh",
        "outputId": "87b47b96-7461-4ae6-f0c6-152f1003517f"
      },
      "execution_count": 55,
      "outputs": [
        {
          "output_type": "stream",
          "name": "stdout",
          "text": [
            "Step-by-step passing the input through\n",
            "New shape torch.Size([64, 1, 64])\n",
            "\n",
            "CALCULATING f(x)\n",
            "Shape of output h after passing batch0 through model.net torch.Size([64, 17, 64])\n",
            "\n",
            "After permuting, h new shape is torch.Size([64, 64, 17])\n",
            "\n",
            "When the softmax function is applied to an n-dimensional input tensor, it rescales them so that the elements of       \n",
            " the n-dimensional output Tensor lie in the range [0,1] and sum to 1.\n",
            "\n",
            "Parameter p obtained by taking the softmax of h has shape torch.Size([64, 64, 17])\n",
            "\n",
            "CALCULATING log_prob(x)\n",
            "log_p is the result of taking the log_categorical of batch0 and p\n",
            "\n",
            "log_p has shape torch.Size([64, 64, 64])\n",
            "After taking the sum(-1), the shape is torch.Size([64, 64])\n",
            "The output is either the mean of log_p or the sum of log_p, torch.Size([]), torch.Size([])\n",
            "Mean output 153.4850616455078, sum output 628674.8125\n"
          ]
        }
      ]
    },
    {
      "cell_type": "markdown",
      "source": [
        "# Test sampling"
      ],
      "metadata": {
        "id": "ZDosY_NYXNeZ"
      }
    },
    {
      "cell_type": "code",
      "source": [
        "#x = next(iter(training_loader)).detach().numpy()\n",
        "#x.shape\n",
        "num_x = 4\n",
        "num_y = 4\n",
        "bs = num_x*num_y\n",
        "\n",
        "x_new = torch.zeros((bs, D))\n",
        "i=0\n",
        "\n",
        "for d in range(D):\n",
        "  while i<3:\n",
        "    print(f'----------i={i}----------')\n",
        "    p = model.f(x_new)\n",
        "    print(f'Shape of p {p.shape}')\n",
        "    x_new_d = torch.multinomial(p[:, d, :], num_samples=1)\n",
        "    print(f'x_new_d is the multinomial of p with shape {x_new_d.shape}')\n",
        "    print(x_new_d)\n",
        "    x_new[:, d] = x_new_d[:,0]\n",
        "    print(f'Shape of x_new is {x_new.shape}\\n')\n",
        "    print(x_new)\n",
        "    #plt.imshow(x_new)\n",
        "    i+=1\n",
        "    break"
      ],
      "metadata": {
        "colab": {
          "base_uri": "https://localhost:8080/"
        },
        "id": "baYZAB2WXPcf",
        "outputId": "c0660acc-b2d3-4e04-89f0-c526a9bdc7d8"
      },
      "execution_count": 67,
      "outputs": [
        {
          "output_type": "stream",
          "name": "stdout",
          "text": [
            "----------i=0----------\n",
            "Shape of p torch.Size([16, 64, 17])\n",
            "x_new_d is the multinomial of p with shape torch.Size([16, 1])\n",
            "tensor([[0],\n",
            "        [0],\n",
            "        [0],\n",
            "        [0],\n",
            "        [0],\n",
            "        [0],\n",
            "        [0],\n",
            "        [0],\n",
            "        [0],\n",
            "        [0],\n",
            "        [0],\n",
            "        [0],\n",
            "        [0],\n",
            "        [0],\n",
            "        [0],\n",
            "        [0]])\n",
            "Shape of x_new is torch.Size([16, 64])\n",
            "\n",
            "tensor([[0., 0., 0.,  ..., 0., 0., 0.],\n",
            "        [0., 0., 0.,  ..., 0., 0., 0.],\n",
            "        [0., 0., 0.,  ..., 0., 0., 0.],\n",
            "        ...,\n",
            "        [0., 0., 0.,  ..., 0., 0., 0.],\n",
            "        [0., 0., 0.,  ..., 0., 0., 0.],\n",
            "        [0., 0., 0.,  ..., 0., 0., 0.]])\n",
            "----------i=1----------\n",
            "Shape of p torch.Size([16, 64, 17])\n",
            "x_new_d is the multinomial of p with shape torch.Size([16, 1])\n",
            "tensor([[0],\n",
            "        [0],\n",
            "        [0],\n",
            "        [0],\n",
            "        [0],\n",
            "        [0],\n",
            "        [0],\n",
            "        [0],\n",
            "        [0],\n",
            "        [0],\n",
            "        [0],\n",
            "        [0],\n",
            "        [0],\n",
            "        [1],\n",
            "        [0],\n",
            "        [0]])\n",
            "Shape of x_new is torch.Size([16, 64])\n",
            "\n",
            "tensor([[0., 0., 0.,  ..., 0., 0., 0.],\n",
            "        [0., 0., 0.,  ..., 0., 0., 0.],\n",
            "        [0., 0., 0.,  ..., 0., 0., 0.],\n",
            "        ...,\n",
            "        [0., 1., 0.,  ..., 0., 0., 0.],\n",
            "        [0., 0., 0.,  ..., 0., 0., 0.],\n",
            "        [0., 0., 0.,  ..., 0., 0., 0.]])\n",
            "----------i=2----------\n",
            "Shape of p torch.Size([16, 64, 17])\n",
            "x_new_d is the multinomial of p with shape torch.Size([16, 1])\n",
            "tensor([[ 0],\n",
            "        [11],\n",
            "        [ 8],\n",
            "        [ 3],\n",
            "        [ 4],\n",
            "        [ 6],\n",
            "        [ 0],\n",
            "        [12],\n",
            "        [ 6],\n",
            "        [ 6],\n",
            "        [ 3],\n",
            "        [ 2],\n",
            "        [ 3],\n",
            "        [10],\n",
            "        [ 5],\n",
            "        [ 0]])\n",
            "Shape of x_new is torch.Size([16, 64])\n",
            "\n",
            "tensor([[ 0.,  0.,  0.,  ...,  0.,  0.,  0.],\n",
            "        [ 0.,  0., 11.,  ...,  0.,  0.,  0.],\n",
            "        [ 0.,  0.,  8.,  ...,  0.,  0.,  0.],\n",
            "        ...,\n",
            "        [ 0.,  1., 10.,  ...,  0.,  0.,  0.],\n",
            "        [ 0.,  0.,  5.,  ...,  0.,  0.,  0.],\n",
            "        [ 0.,  0.,  0.,  ...,  0.,  0.,  0.]])\n"
          ]
        }
      ]
    },
    {
      "cell_type": "markdown",
      "source": [
        "# Training Loop"
      ],
      "metadata": {
        "id": "GD1vuO63Nnr3"
      }
    },
    {
      "cell_type": "code",
      "source": [
        "# Training procedure\n",
        "nll_val = training(name= name, max_patience=max_patience, num_epochs=num_epochs, model=model, optimizer=optimizer,\n",
        "                       training_loader=training_loader, val_loader=val_loader)"
      ],
      "metadata": {
        "colab": {
          "base_uri": "https://localhost:8080/",
          "height": 1000
        },
        "id": "hWm903H9dzZO",
        "outputId": "1d002972-e12d-4b53-c69c-c2574062914b"
      },
      "execution_count": 68,
      "outputs": [
        {
          "output_type": "stream",
          "name": "stdout",
          "text": [
            "Epoch: 0, val nll=91.49983328683035\n",
            "saved!\n",
            "Epoch: 1, val nll=91.13929827008928\n",
            "saved!\n"
          ]
        },
        {
          "output_type": "display_data",
          "data": {
            "text/plain": [
              "<Figure size 640x480 with 16 Axes>"
            ],
            "image/png": "[encoded data removed]"
          },
          "metadata": {}
        },
        {
          "output_type": "stream",
          "name": "stdout",
          "text": [
            "Epoch: 2, val nll=91.16495884486608\n",
            "Epoch: 3, val nll=90.58173409598214\n",
            "saved!\n"
          ]
        },
        {
          "output_type": "display_data",
          "data": {
            "text/plain": [
              "<Figure size 640x480 with 16 Axes>"
            ],
            "image/png": "[encoded data removed]"
          },
          "metadata": {}
        },
        {
          "output_type": "stream",
          "name": "stdout",
          "text": [
            "Epoch: 4, val nll=90.55865583147322\n",
            "saved!\n"
          ]
        },
        {
          "output_type": "display_data",
          "data": {
            "text/plain": [
              "<Figure size 640x480 with 16 Axes>"
            ],
            "image/png": "[encoded data removed]"
          },
          "metadata": {}
        },
        {
          "output_type": "stream",
          "name": "stdout",
          "text": [
            "Epoch: 5, val nll=90.30377232142857\n",
            "saved!\n"
          ]
        },
        {
          "output_type": "display_data",
          "data": {
            "text/plain": [
              "<Figure size 640x480 with 16 Axes>"
            ],
            "image/png": "[encoded data removed]"
          },
          "metadata": {}
        },
        {
          "output_type": "stream",
          "name": "stdout",
          "text": [
            "Epoch: 6, val nll=90.44430594308035\n",
            "Epoch: 7, val nll=90.10510532924107\n",
            "saved!\n"
          ]
        },
        {
          "output_type": "display_data",
          "data": {
            "text/plain": [
              "<Figure size 640x480 with 16 Axes>"
            ],
            "image/png": "[encoded data removed]"
          },
          "metadata": {}
        },
        {
          "output_type": "stream",
          "name": "stdout",
          "text": [
            "Epoch: 8, val nll=90.36439662388393\n",
            "Epoch: 9, val nll=89.97392717633929\n",
            "saved!\n"
          ]
        },
        {
          "output_type": "display_data",
          "data": {
            "text/plain": [
              "<Figure size 640x480 with 16 Axes>"
            ],
            "image/png": "[encoded data removed]"
          },
          "metadata": {}
        },
        {
          "output_type": "stream",
          "name": "stdout",
          "text": [
            "Epoch: 10, val nll=90.03626813616071\n",
            "Epoch: 11, val nll=89.89002232142857\n",
            "saved!\n"
          ]
        },
        {
          "output_type": "display_data",
          "data": {
            "text/plain": [
              "<Figure size 640x480 with 16 Axes>"
            ],
            "image/png": "[encoded data removed]"
          },
          "metadata": {}
        },
        {
          "output_type": "stream",
          "name": "stdout",
          "text": [
            "Epoch: 12, val nll=89.68461356026786\n",
            "saved!\n"
          ]
        },
        {
          "output_type": "display_data",
          "data": {
            "text/plain": [
              "<Figure size 640x480 with 16 Axes>"
            ],
            "image/png": "[encoded data removed]"
          },
          "metadata": {}
        },
        {
          "output_type": "stream",
          "name": "stdout",
          "text": [
            "Epoch: 13, val nll=89.23405552455357\n",
            "saved!\n"
          ]
        },
        {
          "output_type": "display_data",
          "data": {
            "text/plain": [
              "<Figure size 640x480 with 16 Axes>"
            ],
            "image/png": "[encoded data removed]"
          },
          "metadata": {}
        },
        {
          "output_type": "stream",
          "name": "stdout",
          "text": [
            "Epoch: 14, val nll=89.70744838169642\n",
            "Epoch: 15, val nll=89.78251534598215\n",
            "Epoch: 16, val nll=89.56290108816964\n",
            "Epoch: 17, val nll=89.57217424665178\n",
            "Epoch: 18, val nll=89.39121930803572\n",
            "Epoch: 19, val nll=89.40428850446429\n",
            "Epoch: 20, val nll=89.13691685267857\n",
            "saved!\n"
          ]
        },
        {
          "output_type": "display_data",
          "data": {
            "text/plain": [
              "<Figure size 640x480 with 16 Axes>"
            ],
            "image/png": "[encoded data removed]"
          },
          "metadata": {}
        },
        {
          "output_type": "stream",
          "name": "stdout",
          "text": [
            "Epoch: 21, val nll=89.31159109933036\n",
            "Epoch: 22, val nll=89.07431919642858\n",
            "saved!\n"
          ]
        },
        {
          "output_type": "display_data",
          "data": {
            "text/plain": [
              "<Figure size 640x480 with 16 Axes>"
            ],
            "image/png": "[encoded data removed]"
          },
          "metadata": {}
        },
        {
          "output_type": "stream",
          "name": "stdout",
          "text": [
            "Epoch: 23, val nll=89.88260532924107\n",
            "Epoch: 24, val nll=89.44556361607142\n",
            "Epoch: 25, val nll=89.26276157924107\n",
            "Epoch: 26, val nll=89.56368582589286\n",
            "Epoch: 27, val nll=89.80799874441965\n",
            "Epoch: 28, val nll=89.60318359375\n",
            "Epoch: 29, val nll=89.239501953125\n",
            "Epoch: 30, val nll=89.59941266741072\n",
            "Epoch: 31, val nll=89.43528041294643\n",
            "Epoch: 32, val nll=89.5353564453125\n",
            "Epoch: 33, val nll=89.67146065848215\n",
            "Epoch: 34, val nll=89.88411551339286\n",
            "Epoch: 35, val nll=89.7187646484375\n",
            "Epoch: 36, val nll=89.68697963169643\n",
            "Epoch: 37, val nll=90.31395926339286\n",
            "Epoch: 38, val nll=89.86369210379465\n",
            "Epoch: 39, val nll=89.81556222098214\n",
            "Epoch: 40, val nll=90.8392626953125\n",
            "Epoch: 41, val nll=89.95707310267858\n",
            "Epoch: 42, val nll=90.02323590959821\n",
            "Epoch: 43, val nll=90.27347795758928\n"
          ]
        }
      ]
    },
    {
      "cell_type": "code",
      "source": [
        "test_loss = evaluation(name=name, test_loader=test_loader)\n",
        "test_loss"
      ],
      "metadata": {
        "colab": {
          "base_uri": "https://localhost:8080/"
        },
        "id": "QdRo_s5rd3fJ",
        "outputId": "e7c50f1c-71c3-4ff7-9f81-476858b63c24"
      },
      "execution_count": 69,
      "outputs": [
        {
          "output_type": "stream",
          "name": "stdout",
          "text": [
            "FINAL LOSS: nll=86.7862715411773\n"
          ]
        },
        {
          "output_type": "execute_result",
          "data": {
            "text/plain": [
              "86.7862715411773"
            ]
          },
          "metadata": {},
          "execution_count": 69
        }
      ]
    },
    {
      "cell_type": "code",
      "source": [
        "samples_real(name, test_loader)"
      ],
      "metadata": {
        "colab": {
          "base_uri": "https://localhost:8080/",
          "height": 406
        },
        "id": "LL_uirbpeC_y",
        "outputId": "acdd8cc9-545b-4a57-d433-d59a8b58c6e4"
      },
      "execution_count": 70,
      "outputs": [
        {
          "output_type": "display_data",
          "data": {
            "text/plain": [
              "<Figure size 640x480 with 16 Axes>"
            ],
            "image/png": "[encoded data removed]"
          },
          "metadata": {}
        }
      ]
    },
    {
      "cell_type": "code",
      "source": [
        "plot_curve(name, nll_val)"
      ],
      "metadata": {
        "colab": {
          "base_uri": "https://localhost:8080/",
          "height": 449
        },
        "id": "d_Dup2pHeEpL",
        "outputId": "5a3ef13d-db34-40fa-b622-a18e2b64b814"
      },
      "execution_count": 71,
      "outputs": [
        {
          "output_type": "display_data",
          "data": {
            "text/plain": [
              "<Figure size 640x480 with 1 Axes>"
            ],
            "image/png": "[encoded data removed]"
          },
          "metadata": {}
        }
      ]
    },
    {
      "cell_type": "code",
      "source": [],
      "metadata": {
        "id": "YyQiAVO3eFcx"
      },
      "execution_count": null,
      "outputs": []
    }
  ]
}